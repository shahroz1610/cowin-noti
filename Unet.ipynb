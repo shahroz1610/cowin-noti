{
  "nbformat": 4,
  "nbformat_minor": 0,
  "metadata": {
    "colab": {
      "name": "Unet.ipynb",
      "provenance": [],
      "authorship_tag": "ABX9TyMhOTtRqtB49izbn2U8NxXn",
      "include_colab_link": true
    },
    "kernelspec": {
      "name": "python3",
      "display_name": "Python 3"
    },
    "language_info": {
      "name": "python"
    }
  },
  "cells": [
    {
      "cell_type": "markdown",
      "metadata": {
        "id": "view-in-github",
        "colab_type": "text"
      },
      "source": [
        "<a href=\"https://colab.research.google.com/github/shahroz1610/cowin-noti/blob/master/Unet.ipynb\" target=\"_parent\"><img src=\"https://colab.research.google.com/assets/colab-badge.svg\" alt=\"Open In Colab\"/></a>"
      ]
    },
    {
      "cell_type": "code",
      "metadata": {
        "id": "7JnPRa42DUdS"
      },
      "source": [
        "import torch\n",
        "import torch.nn as nn"
      ],
      "execution_count": 1,
      "outputs": []
    },
    {
      "cell_type": "code",
      "metadata": {
        "id": "WJNZaHxhFEDI"
      },
      "source": [
        "class Unet(nn.Module):\n",
        "    def __init__(self,in_channel,out_channel):\n",
        "        super(Unet, self).__init__()\n",
        "\n",
        "        self.in_channel = in_channel\n",
        "        self.out_channel = out_channel\n",
        "        self.mp1 = nn.MaxPool2d(kernel_size=2)\n",
        "        self.gd1 = self.going_down(in_channel,64)\n",
        "        self.gd2 = self.going_down(64,128)\n",
        "        self.gd3 = self.going_down(128,256)\n",
        "        self.gd4 = self.going_down(256,512)\n",
        "        self.btm = self.bottom(512,1024,512)\n",
        "        self.gp4 = self.going_up(1024,512,256)\n",
        "        self.gp3 = self.going_up(512,256,128)\n",
        "        self.gp2 = self.going_up(256,128,64)\n",
        "        self.ll = self.last(128,64,out_channel)\n",
        "\n",
        "    def going_down(self,in_channels,out_channels,kernel_size=3):\n",
        "        block = nn.Sequential(\n",
        "            nn.Conv2d(in_channels=in_channels,out_channels=out_channels,kernel_size=kernel_size),\n",
        "            nn.ReLU(True),\n",
        "            nn.Conv2d(in_channels=out_channels,out_channels=out_channels,kernel_size=kernel_size),\n",
        "            nn.ReLU(True)\n",
        "        )\n",
        "        return block\n",
        "    def going_up(self,in_channels,mid_channels,out_channels,kernel_size=3):\n",
        "        block = nn.Sequential(\n",
        "            nn.Conv2d(in_channels=in_channels,out_channels=mid_channels,kernel_size=3),\n",
        "            nn.ReLU(True),\n",
        "            nn.Conv2d(in_channels=mid_channels,out_channels=mid_channels,kernel_size=3),\n",
        "            nn.ReLU(True),\n",
        "            nn.ConvTranspose2d(in_channels=mid_channels,out_channels=out_channels,kernel_size=kernel_size)\n",
        "        )\n",
        "        return block\n",
        "    def bottom(self,in_channels,mid_channels,out_channels):\n",
        "        block = nn.Sequential(\n",
        "            nn.Conv2d(in_channels=in_channels,out_channels=mid_channels,kernel_size=3),\n",
        "            nn.ReLU(True),\n",
        "            nn.Conv2d(in_channels=mid_channels,out_channels=mid_channels,kernel_size=3),\n",
        "            nn.ReLU(True),\n",
        "            nn.ConvTranspose2d(in_channels=mid_channels,out_channels=out_channels,kernel_size=2)\n",
        "        )\n",
        "        return block\n",
        "    def last(self,in_channels,mid_channels,out_channels):\n",
        "        block = nn.Sequential(\n",
        "            nn.Conv2d(in_channels=in_channels,out_channels=mid_channels,kernel_size=3),\n",
        "            nn.ReLU(True),\n",
        "            nn.Conv2d(in_channels=mid_channels,out_channels=mid_channels,kernel_size=3),\n",
        "            nn.ReLU(True),\n",
        "            nn.Conv2d(in_channels=mid_channels,out_channels=out_channels,kernel_size=1)\n",
        "        )\n",
        "        return block\n",
        "    def concat(self,up,down):\n",
        "        torch.cat((up,down),1)\n",
        "    \n",
        "    def forward(self,x):\n",
        "        eb1 = self.gd1(x)\n",
        "        em1 = self.mp1(eb1)\n",
        "        eb2 = self.gd2(em1)\n",
        "        em2 = self.mp1(eb2)\n",
        "        eb3 = self.gd3(em2)\n",
        "        em3 = self.mp1(eb3)\n",
        "        eb4 = self.gd4(em3)\n",
        "        em4 = self.mp1(eb4)\n",
        "        btm = self.btm(em4)\n",
        "        # \n",
        "        c4 = self.concat(btm,eb4)\n",
        "        db4 = self.gp4(c4)\n",
        "        \n",
        "        c3 = self.concat(db4,eb3)\n",
        "        db3 = self.gp3(c3)\n",
        "\n",
        "        c2 = self.concat(db3,eb2)\n",
        "        db2 = self.gp2(c2)\n",
        "\n",
        "        c1 = self.concat(db2,eb1)\n",
        "        res = self.ll(c1)\n",
        "        \n",
        "        return res\n"
      ],
      "execution_count": 23,
      "outputs": []
    },
    {
      "cell_type": "code",
      "metadata": {
        "id": "4lQUkSXrS_AH"
      },
      "source": [
        "unet = Unet(1,2)"
      ],
      "execution_count": 24,
      "outputs": []
    },
    {
      "cell_type": "code",
      "metadata": {
        "colab": {
          "base_uri": "https://localhost:8080/"
        },
        "id": "yFO8cUAwVCQf",
        "outputId": "c71a12a0-c3e4-4026-84df-8185a25351bf"
      },
      "source": [
        "unet"
      ],
      "execution_count": 25,
      "outputs": [
        {
          "output_type": "execute_result",
          "data": {
            "text/plain": [
              "Unet(\n",
              "  (mp1): MaxPool2d(kernel_size=2, stride=2, padding=0, dilation=1, ceil_mode=False)\n",
              "  (gd1): Sequential(\n",
              "    (0): Conv2d(1, 64, kernel_size=(3, 3), stride=(1, 1))\n",
              "    (1): ReLU(inplace=True)\n",
              "    (2): Conv2d(64, 64, kernel_size=(3, 3), stride=(1, 1))\n",
              "    (3): ReLU(inplace=True)\n",
              "  )\n",
              "  (gd2): Sequential(\n",
              "    (0): Conv2d(64, 128, kernel_size=(3, 3), stride=(1, 1))\n",
              "    (1): ReLU(inplace=True)\n",
              "    (2): Conv2d(128, 128, kernel_size=(3, 3), stride=(1, 1))\n",
              "    (3): ReLU(inplace=True)\n",
              "  )\n",
              "  (gd3): Sequential(\n",
              "    (0): Conv2d(128, 256, kernel_size=(3, 3), stride=(1, 1))\n",
              "    (1): ReLU(inplace=True)\n",
              "    (2): Conv2d(256, 256, kernel_size=(3, 3), stride=(1, 1))\n",
              "    (3): ReLU(inplace=True)\n",
              "  )\n",
              "  (gd4): Sequential(\n",
              "    (0): Conv2d(256, 512, kernel_size=(3, 3), stride=(1, 1))\n",
              "    (1): ReLU(inplace=True)\n",
              "    (2): Conv2d(512, 512, kernel_size=(3, 3), stride=(1, 1))\n",
              "    (3): ReLU(inplace=True)\n",
              "  )\n",
              "  (btm): Sequential(\n",
              "    (0): Conv2d(512, 1024, kernel_size=(3, 3), stride=(1, 1))\n",
              "    (1): ReLU(inplace=True)\n",
              "    (2): Conv2d(1024, 1024, kernel_size=(3, 3), stride=(1, 1))\n",
              "    (3): ReLU(inplace=True)\n",
              "    (4): ConvTranspose2d(1024, 512, kernel_size=(2, 2), stride=(1, 1))\n",
              "  )\n",
              "  (gp4): Sequential(\n",
              "    (0): Conv2d(1024, 512, kernel_size=(3, 3), stride=(1, 1))\n",
              "    (1): ReLU(inplace=True)\n",
              "    (2): Conv2d(512, 512, kernel_size=(3, 3), stride=(1, 1))\n",
              "    (3): ReLU(inplace=True)\n",
              "    (4): ConvTranspose2d(512, 256, kernel_size=(3, 3), stride=(1, 1))\n",
              "  )\n",
              "  (gp3): Sequential(\n",
              "    (0): Conv2d(512, 256, kernel_size=(3, 3), stride=(1, 1))\n",
              "    (1): ReLU(inplace=True)\n",
              "    (2): Conv2d(256, 256, kernel_size=(3, 3), stride=(1, 1))\n",
              "    (3): ReLU(inplace=True)\n",
              "    (4): ConvTranspose2d(256, 128, kernel_size=(3, 3), stride=(1, 1))\n",
              "  )\n",
              "  (gp2): Sequential(\n",
              "    (0): Conv2d(256, 128, kernel_size=(3, 3), stride=(1, 1))\n",
              "    (1): ReLU(inplace=True)\n",
              "    (2): Conv2d(128, 128, kernel_size=(3, 3), stride=(1, 1))\n",
              "    (3): ReLU(inplace=True)\n",
              "    (4): ConvTranspose2d(128, 64, kernel_size=(3, 3), stride=(1, 1))\n",
              "  )\n",
              "  (ll): Sequential(\n",
              "    (0): Conv2d(128, 64, kernel_size=(3, 3), stride=(1, 1))\n",
              "    (1): ReLU(inplace=True)\n",
              "    (2): Conv2d(64, 64, kernel_size=(3, 3), stride=(1, 1))\n",
              "    (3): ReLU(inplace=True)\n",
              "    (4): Conv2d(64, 2, kernel_size=(1, 1), stride=(1, 1))\n",
              "  )\n",
              ")"
            ]
          },
          "metadata": {
            "tags": []
          },
          "execution_count": 25
        }
      ]
    },
    {
      "cell_type": "code",
      "metadata": {
        "id": "PdYk6DBiVbP2"
      },
      "source": [
        ""
      ],
      "execution_count": null,
      "outputs": []
    }
  ]
}